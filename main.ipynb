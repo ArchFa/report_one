{
 "cells": [
  {
   "cell_type": "code",
   "execution_count": 21,
   "metadata": {},
   "outputs": [],
   "source": [
    "import pandas as pd\n",
    "import streamlit as st"
   ]
  },
  {
   "cell_type": "code",
   "execution_count": 3,
   "metadata": {},
   "outputs": [],
   "source": [
    "count_task = \"offers_statuses (3).txt\""
   ]
  },
  {
   "cell_type": "code",
   "execution_count": 22,
   "metadata": {},
   "outputs": [],
   "source": [
    "df = pd.read_csv(count_task, sep='|')\n",
    "#df = pd.read_csv('/Users/arturfattahov/Downloads/Telegram Desktop/offers_statuses (3).txt', sep='|')"
   ]
  },
  {
   "cell_type": "code",
   "execution_count": 23,
   "metadata": {},
   "outputs": [],
   "source": [
    "df = df.dropna()\n",
    "\n",
    "df.columns = ['offer_id', 'offer_created_at','platform','count_responds', 'count_prematch']\n",
    "\n",
    "df['offer_created_at'] = pd.to_datetime(df['offer_created_at'])\n",
    "df.offer_created_at = df.offer_created_at.values.astype('M8[D]')\n",
    "\n",
    "df['count_responds'] = df['count_responds'].astype(int)\n",
    "df['count_prematch'] = df['count_prematch'].astype(int)\n",
    "\n",
    "df['platform'] = df['platform'].str.strip()"
   ]
  },
  {
   "cell_type": "code",
   "execution_count": 24,
   "metadata": {},
   "outputs": [],
   "source": [
    "df_june = df[df['offer_created_at'] > '2022-05-31']\n",
    "df_may = df[df['offer_created_at'] < '2022-05-31']"
   ]
  },
  {
   "cell_type": "code",
   "execution_count": 25,
   "metadata": {},
   "outputs": [],
   "source": [
    "all_task_june = df_june['offer_id'].nunique()\n",
    "all_task_may = df_may['offer_id'].nunique()\n",
    "\n",
    "difference_task = all_task_june - all_task_may"
   ]
  },
  {
   "cell_type": "code",
   "execution_count": 26,
   "metadata": {},
   "outputs": [],
   "source": [
    "task_mobile_may = df_may.query('platform == \"android\"').count()[0] + df_may.query('platform == \"ios\"').count()[0]\n",
    "task_mobile_june = df_june.query('platform == \"android\"').count()[0] + df_june.query('platform == \"ios\"').count()[0]"
   ]
  },
  {
   "cell_type": "code",
   "execution_count": 27,
   "metadata": {},
   "outputs": [],
   "source": [
    "create_task_mobile_may = task_mobile_may * 100 / all_task_may\n",
    "create_task_mobile_june = task_mobile_june * 100 / all_task_may"
   ]
  },
  {
   "cell_type": "code",
   "execution_count": 31,
   "metadata": {},
   "outputs": [],
   "source": [
    "task_admins_j = df_june['platform'].value_counts()[0]\n",
    "task_andr_j = df_june['platform'].value_counts()[1]\n",
    "task_ios_j = df_june['platform'].value_counts()[2]\n",
    "\n",
    "task_admins_m = df_may['platform'].value_counts()[0]\n",
    "task_andr_m = df_may['platform'].value_counts()[1]\n",
    "task_ios_m = df_may['platform'].value_counts()[2]\n",
    "\n",
    "\n",
    "diff_1 = task_admins_j - task_admins_m\n",
    "diff_2 = task_andr_j - task_andr_m\n",
    "diff_3 = task_ios_j - task_ios_m"
   ]
  },
  {
   "cell_type": "code",
   "execution_count": 14,
   "metadata": {},
   "outputs": [
    {
     "data": {
      "text/plain": [
       "DeltaGenerator(_root_container=0, _provided_cursor=None, _parent=None, _block_type=None, _form_data=None)"
      ]
     },
     "execution_count": 14,
     "metadata": {},
     "output_type": "execute_result"
    }
   ],
   "source": [
    "st.title(\"Отчет UrgY\")\n",
    "st.subheader(\"Количество созданных задач\")"
   ]
  },
  {
   "cell_type": "code",
   "execution_count": null,
   "metadata": {},
   "outputs": [],
   "source": [
    "st.metric(label=\"Количество созданных задач за июнь\", value=all_task_june, delta=difference_task)"
   ]
  },
  {
   "cell_type": "code",
   "execution_count": null,
   "metadata": {},
   "outputs": [],
   "source": [
    "col1, col2, col3 = st.columns(5)\n",
    "col1.metric(\"Количество созданных задач за июнь\", all_task_june, difference_task)\n",
    "col2.metric(\"Количество созданных задач за июнь Android\", task_andr_j, diff_2)\n",
    "col3.metric(\"Количество созданных задач за июнь iOS\", task_ios_j, diff_3)\n",
    "col3.metric(\"Количество созданных задач за июнь Admins\", task_admins_j,diff_1)"
   ]
  }
 ],
 "metadata": {
  "interpreter": {
   "hash": "aee8b7b246df8f9039afb4144a1f6fd8d2ca17a180786b69acc140d282b71a49"
  },
  "kernelspec": {
   "display_name": "Python 3.10.4 64-bit",
   "language": "python",
   "name": "python3"
  },
  "language_info": {
   "codemirror_mode": {
    "name": "ipython",
    "version": 3
   },
   "file_extension": ".py",
   "mimetype": "text/x-python",
   "name": "python",
   "nbconvert_exporter": "python",
   "pygments_lexer": "ipython3",
   "version": "3.10.4"
  },
  "orig_nbformat": 4
 },
 "nbformat": 4,
 "nbformat_minor": 2
}
